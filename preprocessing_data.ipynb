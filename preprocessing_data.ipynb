{
 "cells": [
  {
   "cell_type": "markdown",
   "metadata": {},
   "source": [
    "### Load data "
   ]
  },
  {
   "cell_type": "code",
   "execution_count": 38,
   "metadata": {},
   "outputs": [],
   "source": [
    "from datasets import load_dataset\n",
    "data = load_dataset(\"uitnlp/vietnamese_students_feedback\")"
   ]
  },
  {
   "cell_type": "code",
   "execution_count": 39,
   "metadata": {},
   "outputs": [
    {
     "data": {
      "text/plain": [
       "DatasetDict({\n",
       "    train: Dataset({\n",
       "        features: ['sentence', 'sentiment', 'topic'],\n",
       "        num_rows: 11426\n",
       "    })\n",
       "    validation: Dataset({\n",
       "        features: ['sentence', 'sentiment', 'topic'],\n",
       "        num_rows: 1583\n",
       "    })\n",
       "    test: Dataset({\n",
       "        features: ['sentence', 'sentiment', 'topic'],\n",
       "        num_rows: 3166\n",
       "    })\n",
       "})"
      ]
     },
     "execution_count": 39,
     "metadata": {},
     "output_type": "execute_result"
    }
   ],
   "source": [
    "data#['train']"
   ]
  },
  {
   "cell_type": "code",
   "execution_count": 40,
   "metadata": {},
   "outputs": [
    {
     "data": {
      "text/html": [
       "<div>\n",
       "<style scoped>\n",
       "    .dataframe tbody tr th:only-of-type {\n",
       "        vertical-align: middle;\n",
       "    }\n",
       "\n",
       "    .dataframe tbody tr th {\n",
       "        vertical-align: top;\n",
       "    }\n",
       "\n",
       "    .dataframe thead th {\n",
       "        text-align: right;\n",
       "    }\n",
       "</style>\n",
       "<table border=\"1\" class=\"dataframe\">\n",
       "  <thead>\n",
       "    <tr style=\"text-align: right;\">\n",
       "      <th></th>\n",
       "      <th>sentence</th>\n",
       "      <th>sentiment</th>\n",
       "      <th>topic</th>\n",
       "    </tr>\n",
       "  </thead>\n",
       "  <tbody>\n",
       "    <tr>\n",
       "      <th>0</th>\n",
       "      <td>slide giáo trình đầy đủ .</td>\n",
       "      <td>2</td>\n",
       "      <td>1</td>\n",
       "    </tr>\n",
       "    <tr>\n",
       "      <th>1</th>\n",
       "      <td>nhiệt tình giảng dạy , gần gũi với sinh viên .</td>\n",
       "      <td>2</td>\n",
       "      <td>0</td>\n",
       "    </tr>\n",
       "    <tr>\n",
       "      <th>2</th>\n",
       "      <td>đi học đầy đủ full điểm chuyên cần .</td>\n",
       "      <td>0</td>\n",
       "      <td>1</td>\n",
       "    </tr>\n",
       "    <tr>\n",
       "      <th>3</th>\n",
       "      <td>chưa áp dụng công nghệ thông tin và các thiết ...</td>\n",
       "      <td>0</td>\n",
       "      <td>0</td>\n",
       "    </tr>\n",
       "    <tr>\n",
       "      <th>4</th>\n",
       "      <td>thầy giảng bài hay , có nhiều bài tập ví dụ ng...</td>\n",
       "      <td>2</td>\n",
       "      <td>0</td>\n",
       "    </tr>\n",
       "    <tr>\n",
       "      <th>5</th>\n",
       "      <td>giảng viên đảm bảo thời gian lên lớp , tích cự...</td>\n",
       "      <td>2</td>\n",
       "      <td>0</td>\n",
       "    </tr>\n",
       "    <tr>\n",
       "      <th>6</th>\n",
       "      <td>em sẽ nợ môn này , nhưng em sẽ học lại ở các h...</td>\n",
       "      <td>1</td>\n",
       "      <td>3</td>\n",
       "    </tr>\n",
       "    <tr>\n",
       "      <th>7</th>\n",
       "      <td>thời lượng học quá dài , không đảm bảo tiếp th...</td>\n",
       "      <td>0</td>\n",
       "      <td>1</td>\n",
       "    </tr>\n",
       "    <tr>\n",
       "      <th>8</th>\n",
       "      <td>nội dung môn học có phần thiếu trọng tâm , hầu...</td>\n",
       "      <td>0</td>\n",
       "      <td>1</td>\n",
       "    </tr>\n",
       "    <tr>\n",
       "      <th>9</th>\n",
       "      <td>cần nói rõ hơn bằng cách trình bày lên bảng th...</td>\n",
       "      <td>0</td>\n",
       "      <td>1</td>\n",
       "    </tr>\n",
       "  </tbody>\n",
       "</table>\n",
       "</div>"
      ],
      "text/plain": [
       "                                            sentence  sentiment  topic\n",
       "0                          slide giáo trình đầy đủ .          2      1\n",
       "1     nhiệt tình giảng dạy , gần gũi với sinh viên .          2      0\n",
       "2               đi học đầy đủ full điểm chuyên cần .          0      1\n",
       "3  chưa áp dụng công nghệ thông tin và các thiết ...          0      0\n",
       "4  thầy giảng bài hay , có nhiều bài tập ví dụ ng...          2      0\n",
       "5  giảng viên đảm bảo thời gian lên lớp , tích cự...          2      0\n",
       "6  em sẽ nợ môn này , nhưng em sẽ học lại ở các h...          1      3\n",
       "7  thời lượng học quá dài , không đảm bảo tiếp th...          0      1\n",
       "8  nội dung môn học có phần thiếu trọng tâm , hầu...          0      1\n",
       "9  cần nói rõ hơn bằng cách trình bày lên bảng th...          0      1"
      ]
     },
     "execution_count": 40,
     "metadata": {},
     "output_type": "execute_result"
    }
   ],
   "source": [
    "df_train = data['train'].to_pandas()\n",
    "df_train.head(10)\n"
   ]
  },
  {
   "cell_type": "code",
   "execution_count": 41,
   "metadata": {},
   "outputs": [
    {
     "data": {
      "text/plain": [
       "'những thông tin cần thiết như doubledot thời gian dealine , cách nộp bài thường không dặn lớp thực hành thứ hai .'"
      ]
     },
     "execution_count": 41,
     "metadata": {},
     "output_type": "execute_result"
    }
   ],
   "source": [
    "data['train']['sentence'][47]"
   ]
  },
  {
   "cell_type": "code",
   "execution_count": 42,
   "metadata": {},
   "outputs": [],
   "source": [
    "train_data = data['train']"
   ]
  },
  {
   "cell_type": "code",
   "execution_count": 43,
   "metadata": {},
   "outputs": [],
   "source": [
    "import pandas as pd"
   ]
  },
  {
   "cell_type": "code",
   "execution_count": 44,
   "metadata": {},
   "outputs": [
    {
     "name": "stdout",
     "output_type": "stream",
     "text": [
      "DatasetDict({\n",
      "    train: Dataset({\n",
      "        features: ['sentence', 'sentiment', 'topic'],\n",
      "        num_rows: 11426\n",
      "    })\n",
      "    validation: Dataset({\n",
      "        features: ['sentence', 'sentiment', 'topic'],\n",
      "        num_rows: 1583\n",
      "    })\n",
      "    test: Dataset({\n",
      "        features: ['sentence', 'sentiment', 'topic'],\n",
      "        num_rows: 3166\n",
      "    })\n",
      "})\n"
     ]
    }
   ],
   "source": [
    "train_data = train_data.rename_column(\"sentiment\", \"labels\")\n",
    "print(data)"
   ]
  },
  {
   "cell_type": "code",
   "execution_count": 45,
   "metadata": {},
   "outputs": [
    {
     "data": {
      "text/plain": [
       "Dataset({\n",
       "    features: ['sentence', 'labels', 'topic'],\n",
       "    num_rows: 11426\n",
       "})"
      ]
     },
     "execution_count": 45,
     "metadata": {},
     "output_type": "execute_result"
    }
   ],
   "source": [
    "train_data"
   ]
  },
  {
   "cell_type": "markdown",
   "metadata": {},
   "source": [
    "## Pre-processing data"
   ]
  },
  {
   "cell_type": "markdown",
   "metadata": {},
   "source": [
    "### 1. Remove punctuation"
   ]
  },
  {
   "cell_type": "code",
   "execution_count": 46,
   "metadata": {},
   "outputs": [
    {
     "name": "stdout",
     "output_type": "stream",
     "text": [
      "giảng dạy hay dễ hiểu tận tình\n"
     ]
    },
    {
     "name": "stderr",
     "output_type": "stream",
     "text": [
      "Map: 100%|██████████| 11426/11426 [00:00<00:00, 13338.29 examples/s]\n"
     ]
    }
   ],
   "source": [
    "import string\n",
    "\n",
    "def remove_punctuation(input_string):\n",
    "    translator = str.maketrans('', '', string.punctuation)\n",
    "    cleaned_string = input_string.translate(translator)\n",
    "    # Remove extra spaces\n",
    "    cleaned_string = ' '.join(cleaned_string.split())\n",
    "    return cleaned_string\n",
    "\n",
    "print(remove_punctuation('giảng dạy hay , dễ hiểu , tận tình .'))\n",
    "train_data = train_data.map(lambda example: {'sentence': remove_punctuation(example['sentence'])})\n"
   ]
  },
  {
   "cell_type": "markdown",
   "metadata": {},
   "source": [
    "### 2. Lower case"
   ]
  },
  {
   "cell_type": "code",
   "execution_count": 47,
   "metadata": {},
   "outputs": [
    {
     "name": "stderr",
     "output_type": "stream",
     "text": [
      "Map: 100%|██████████| 11426/11426 [00:00<00:00, 19519.25 examples/s]\n"
     ]
    }
   ],
   "source": [
    "def lower(text):\n",
    "    return text.lower()\n",
    "\n",
    "#print(lower('.'))\n",
    "train_data = train_data.map(lambda example: {'sentence': lower(example['sentence'])})"
   ]
  },
  {
   "cell_type": "markdown",
   "metadata": {},
   "source": [
    "### 3. Transform emoticons to word form"
   ]
  },
  {
   "cell_type": "code",
   "execution_count": 48,
   "metadata": {},
   "outputs": [
    {
     "name": "stdout",
     "output_type": "stream",
     "text": [
      "Defaulting to user installation because normal site-packages is not writeable\n",
      "Requirement already satisfied: dictionary in c:\\users\\laptop\\appdata\\local\\packages\\pythonsoftwarefoundation.python.3.12_qbz5n2kfra8p0\\localcache\\local-packages\\python312\\site-packages (1.0)\n",
      "Note: you may need to restart the kernel to use updated packages.\n"
     ]
    }
   ],
   "source": [
    "%pip install dictionary"
   ]
  },
  {
   "cell_type": "code",
   "execution_count": 49,
   "metadata": {},
   "outputs": [
    {
     "name": "stdout",
     "output_type": "stream",
     "text": [
      "Converted sentence: giáo viên dạy kiến tạo xã hội chủ yếu để học sinh tự học colonsmile\n"
     ]
    },
    {
     "name": "stderr",
     "output_type": "stream",
     "text": [
      "Map: 100%|██████████| 11426/11426 [00:00<00:00, 19882.84 examples/s]\n"
     ]
    }
   ],
   "source": [
    "from Data_Processing.dictionary import emotion2wordform_dict, wordform2vnese_dict, mispelling_dict, translate_dict, number_dict\n",
    "\n",
    "def emoticon2word(sentence):\n",
    "    words = sentence.split()\n",
    "    converted_words = [emotion2wordform_dict.get(word, word) for word in words]\n",
    "    converted_sentence = ' '.join(converted_words)\n",
    "    return converted_sentence\n",
    "\n",
    "# Test the function\n",
    "sentence = \"giáo viên dạy kiến tạo xã hội chủ yếu để học sinh tự học :)\"\n",
    "print(\"Converted sentence:\", emoticon2word(sentence))\n",
    "\n",
    "train_data = train_data.map(lambda example: {'sentence': emoticon2word(example['sentence'])})\n"
   ]
  },
  {
   "cell_type": "markdown",
   "metadata": {},
   "source": [
    "### 4. Translate word form of emoticons into Viet Nam"
   ]
  },
  {
   "cell_type": "code",
   "execution_count": 50,
   "metadata": {},
   "outputs": [
    {
     "name": "stdout",
     "output_type": "stream",
     "text": [
      "Converted sentence: giáo viên dạy kiến tạo xã hội chủ yếu để học sinh tự học cười nhẹ\n"
     ]
    },
    {
     "name": "stderr",
     "output_type": "stream",
     "text": [
      "Map: 100%|██████████| 11426/11426 [00:00<00:00, 21380.53 examples/s]\n"
     ]
    }
   ],
   "source": [
    "def word_form2Vnese(sentence):\n",
    "    words = sentence.split()\n",
    "    converted_words = [wordform2vnese_dict.get(word, word) for word in words]\n",
    "    converted_sentence = ' '.join(converted_words)\n",
    "    return converted_sentence\n",
    "\n",
    "# Test the function\n",
    "sentence = \"giáo viên dạy kiến tạo xã hội chủ yếu để học sinh tự học colonsmile\"\n",
    "print(\"Converted sentence:\", word_form2Vnese(sentence))\n",
    "\n",
    "train_data = train_data.map(lambda example: {'sentence': word_form2Vnese(example['sentence'])})"
   ]
  },
  {
   "cell_type": "markdown",
   "metadata": {},
   "source": [
    "### 5. Spelling correction with VietNamese"
   ]
  },
  {
   "cell_type": "code",
   "execution_count": 51,
   "metadata": {},
   "outputs": [
    {
     "name": "stdout",
     "output_type": "stream",
     "text": [
      "Converted sentence:  bài thực hành này được tải lên lên phần mềm \n"
     ]
    },
    {
     "name": "stderr",
     "output_type": "stream",
     "text": [
      "Map: 100%|██████████| 11426/11426 [00:01<00:00, 10607.87 examples/s]\n"
     ]
    }
   ],
   "source": [
    "def translate2word(sentence, translate_dict):\n",
    "    sentence = \" \" + sentence.strip() + \" \"\n",
    "    for correct_word, incorrect_words in translate_dict.items():\n",
    "        for incorrect_word in incorrect_words:\n",
    "            sentence = sentence.replace(incorrect_word, correct_word)\n",
    "    return sentence\n",
    "\n",
    "sentence = 'bài lab này được upload lên proteus'\n",
    "corrected_sentence = translate2word(sentence, translate_dict)\n",
    "print(\"Converted sentence:\", corrected_sentence)\n",
    "train_data = train_data.map(lambda example: {'sentence': translate2word(example['sentence'], translate_dict)})"
   ]
  },
  {
   "cell_type": "code",
   "execution_count": 52,
   "metadata": {},
   "outputs": [
    {
     "name": "stdout",
     "output_type": "stream",
     "text": [
      "Converted sentence: .\n"
     ]
    },
    {
     "name": "stderr",
     "output_type": "stream",
     "text": [
      "Map: 100%|██████████| 11426/11426 [00:02<00:00, 3991.93 examples/s]\n"
     ]
    }
   ],
   "source": [
    "def mispell2word(sentence, mispelling_dict):\n",
    "    # Thêm khoảng trắng vào đầu và cuối câu để đảm bảo thay thế từ đúng\n",
    "    sentence = \" \" + sentence.strip() + \" \"\n",
    "    \n",
    "    # Thay thế các từ sai chính tả bằng từ đúng từ từ điển\n",
    "    for correct_word, incorrect_words in mispelling_dict.items():\n",
    "        for incorrect_word in incorrect_words:\n",
    "            sentence = sentence.replace(incorrect_word, correct_word)\n",
    "    \n",
    "    # Loại bỏ khoảng trắng thừa ở đầu và cuối câu\n",
    "    sentence = sentence.strip()\n",
    "    \n",
    "    return sentence\n",
    "\n",
    "# Câu cần sửa lỗi chính tả\n",
    "sentence = '.'\n",
    "corrected_sentence = mispell2word(sentence, mispelling_dict)\n",
    "print(\"Converted sentence:\", corrected_sentence)\n",
    "train_data = train_data.map(lambda example: {'sentence': mispell2word(example['sentence'], mispelling_dict)})\n"
   ]
  },
  {
   "cell_type": "code",
   "execution_count": 53,
   "metadata": {},
   "outputs": [
    {
     "name": "stdout",
     "output_type": "stream",
     "text": [
      "Original sentence: slide giáo trình đầy đủ .\n",
      "Corrected sentence: slide giáo trình đầy đủ .\n",
      "Original sentence: nhiệt tình giảng dạy , gần gũi với sinh viên .\n",
      "Corrected sentence: nhiệt tình giảng dạy , gần gũi với sinh viên .\n",
      "Original sentence: đi học đầy đủ full điểm chuyên cần .\n",
      "Corrected sentence: đi học đầy đủ full điểm chuyên cần .\n",
      "Original sentence: chưa áp dụng công nghệ thông tin và các thiết bị hỗ trợ cho việc giảng dạy .\n",
      "Corrected sentence: chưa áp dụng công nghệ thông tin và các thiết bị hỗ trợ cho việc giảng dạy .\n",
      "Original sentence: thầy giảng bài hay , có nhiều bài tập ví dụ ngay trên lớp .\n",
      "Corrected sentence: thầy giảng bài hay , có nhiều bài tập ví dụ ngay trên lớp .\n"
     ]
    }
   ],
   "source": [
    "# Giả sử bạn đang sử dụng thư viện datasets của Hugging Face\n",
    "from datasets import load_dataset\n",
    "\n",
    "train_data = load_dataset(\"uitnlp/vietnamese_students_feedback\")['train']\n",
    "\n",
    "# Áp dụng hàm mispell2word cho mỗi câu trong tập dữ liệu\n",
    "train_data = train_data.map(lambda example: {'sentence': mispell2word(example['sentence'], mispelling_dict)})\n",
    "\n",
    "# Kiểm tra một vài ví dụ từ dữ liệu đã được sửa lỗi\n",
    "for i in range(5):\n",
    "    print(f\"Original sentence: {train_data['sentence'][i]}\")\n",
    "    print(f\"Corrected sentence: {mispell2word(train_data['sentence'][i], mispelling_dict)}\")"
   ]
  },
  {
   "cell_type": "code",
   "execution_count": 54,
   "metadata": {},
   "outputs": [
    {
     "name": "stdout",
     "output_type": "stream",
     "text": [
      "Converted sentence: bài tập của tôi được mười điểm\n"
     ]
    }
   ],
   "source": [
    "def number2text(sentence):\n",
    "    words = sentence.split()\n",
    "    converted_words = [number_dict.get(word, word) for word in words]\n",
    "    converted_sentence = ' '.join(converted_words)\n",
    "    return converted_sentence\n",
    "\n",
    "# Test the function\n",
    "sentence = \"bài tập của tôi được 10 điểm\"\n",
    "print(\"Converted sentence:\", number2text(sentence))\n",
    "train_data = train_data.map(lambda example: {'sentence': number2text(example['sentence'])})"
   ]
  },
  {
   "cell_type": "code",
   "execution_count": 55,
   "metadata": {},
   "outputs": [
    {
     "name": "stdout",
     "output_type": "stream",
     "text": [
      "Removed stopwords: bài tập tôi 10 điểm\n"
     ]
    }
   ],
   "source": [
    "\n",
    "def remove_stopwords(text, stopword_file=r'C:\\Users\\LAPTOP\\Sentiment_Analysis_of_Student_Feedback\\Data_Processing\\stopword.txt'):\n",
    "    # Read stopwords from the file with utf-8 encoding\n",
    "    with open(stopword_file, 'r', encoding='utf-8') as file:\n",
    "        stopwords = set(word.strip() for word in file)\n",
    "\n",
    "    # Tokenize the input sentence into words\n",
    "    words = text.split()\n",
    "\n",
    "    # Remove the stopwords from the list of words\n",
    "    filtered_words = [word for word in words if word.lower() not in stopwords]\n",
    "\n",
    "    # Reconstruct the sentence without the stopwords\n",
    "    text = ' '.join(filtered_words)\n",
    "\n",
    "    return text\n",
    "text = \"bài tập của tôi được 10 điểm\"\n",
    "print(\"Removed stopwords:\", remove_stopwords(text))\n",
    "train_data = train_data.map(lambda example: {'sentence': remove_stopwords(example['sentence'])})"
   ]
  },
  {
   "cell_type": "code",
   "execution_count": 56,
   "metadata": {},
   "outputs": [
    {
     "name": "stdout",
     "output_type": "stream",
     "text": [
      "Data has been processed and saved to 'processed_data.csv'\n"
     ]
    }
   ],
   "source": [
    "train_data = pd.DataFrame(train_data)\n",
    "train_data.to_csv('processed_data.csv', index=False)\n",
    "\n",
    "print(\"Data has been processed and saved to 'processed_data.csv'\")"
   ]
  }
 ],
 "metadata": {
  "kernelspec": {
   "display_name": "Python 3",
   "language": "python",
   "name": "python3"
  },
  "language_info": {
   "codemirror_mode": {
    "name": "ipython",
    "version": 3
   },
   "file_extension": ".py",
   "mimetype": "text/x-python",
   "name": "python",
   "nbconvert_exporter": "python",
   "pygments_lexer": "ipython3",
   "version": "3.12.3"
  }
 },
 "nbformat": 4,
 "nbformat_minor": 2
}
